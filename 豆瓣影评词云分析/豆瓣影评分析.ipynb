{
 "cells": [
  {
   "cell_type": "code",
   "execution_count": 1,
   "metadata": {
    "collapsed": true
   },
   "outputs": [],
   "source": [
    "from urllib import request\n",
    "resp = request.urlopen('https://movie.douban.com/nowplaying/beijing/')\n",
    "html_data = resp.read().decode('utf-8')\n",
    "#print(html_data)"
   ]
  },
  {
   "cell_type": "code",
   "execution_count": 2,
   "metadata": {
    "collapsed": true
   },
   "outputs": [],
   "source": [
    "from bs4 import BeautifulSoup as bs\n",
    "soup = bs(html_data, 'html.parser')    \n",
    "nowplaying_movie = soup.find_all('div', id='nowplaying')\n",
    "nowplaying_movie_list = nowplaying_movie[0].find_all('li', class_='list-item') \n",
    "#print(nowplaying_movie_list[0])"
   ]
  },
  {
   "cell_type": "code",
   "execution_count": 3,
   "metadata": {
    "collapsed": true
   },
   "outputs": [],
   "source": [
    "nowplaying_list = [] \n",
    "for item in nowplaying_movie_list:        \n",
    "        nowplaying_dict = {}        \n",
    "        nowplaying_dict['id'] = item['data-subject']       \n",
    "        for tag_img_item in item.find_all('img'):            \n",
    "            nowplaying_dict['name'] = tag_img_item['alt']            \n",
    "            nowplaying_list.append(nowplaying_dict)  \n",
    "            \n",
    "#print(nowplaying_list)"
   ]
  },
  {
   "cell_type": "code",
   "execution_count": 5,
   "metadata": {},
   "outputs": [
    {
     "name": "stdout",
     "output_type": "stream",
     "text": [
      "[' 在这种家庭里做一条狗都好啊\\n        ', ' 当时出国以后的第一最大感受就是尊重，不论老弱病孕还是任何“与众不同”，都不会有人上下打量你。我不能说他们内心是否真的友善，但是尊重是最起码的原则。希望这个世界多一些善意，任何人都有自己的存在的理由和方式，看到每个人由衷接受Auggie的时候太暖心了。\\n        ', ' 所有人都知道是化妆只有我一个人以为请的真实病人出演吗。。。\\n        ', ' 有种糖放多了的感觉，精华基本都在预告里了。但对孩子们的纯真友情毫无抵抗力啊，就像被温柔的抚摸了一下软肋。Jacob Tremblay涂着厚厚化妆都能感受到演技，小李子真好意思把奥斯卡摆在家里吗...\\n        ', ' 为什么欧文威尔逊和范迪塞尔可以在他们参演的几乎所有电影里都保持同一个发型？\\n        ', ' 其实这更像当代童话，因为，实在是太暖了。里面每个人都那么暖，怎么可以那么暖，怎么可以那么暖！像一个暖心的童话故事。虽然，我也怀疑这样故事的真实性，但是，却喜欢被这样暖的故事感动，一度哭到不行。\\n        ', ' 秋天排练的话剧春天才会公演，软盘誊抄的论文硬盘才能呈现。你无非是度过了五年级，时间却有魔法经历非凡。躲在卧室里的灵魂最向往蓝天，藏在头盔中的容颜最渴望看见。你其实并没有炸掉死星，楚巴卡会令有些人变得不凡。一杯水能让光影折射，一个男孩能让善良被选择。奥古是杯水，折射出每个人的善意。\\n        ', ' 每个人，不论年龄、性别（弟弟、姐姐、姐姐的闺蜜），在成长都会遇到质疑、泪水、冷眼、谎言、误解、痛苦、嘲讽、挣扎、阵痛。都可以在电影《wonder》中找到影子，产生共鸣。《wonder》以小见大，小故事大题材，折射出真善美，勇敢与希望，宽容与理解，不论在任何国度、任何肤色，都是人类永恒的主题。\\n        ', ' 买票的时候很纠结，因为是完全可以预料到的剧情。这种温馨少年故事虽各各不同却又次次类似。若是你近来心情疲惫，这部电影是个流泪的好借口。\\n        ', ' 一碗甜而不腻的普世价值鸡汤，非常好喝。\\n\\n看之前我以为是讲主角小男孩的，原来是章回体，每个人都有故事每个人都有视角每个人都有选择。\\n\\n每个人都很美很好。\\n\\n开演前基友给我说这部电影就像夏天一样清新，是啊没错，像泡在透明干净的玻璃瓶中的黄瓜水一样，安心又健康，还有甘甜味。\\n        ', ' 请多带你们自己和你们的孩子去看看这种电影，谢谢。\\n        ', ' 能让观众在电影开篇不到10分钟就哭出来，就很已经厉害了...\\n        ', ' 五星推荐。不是想象的励志片，而是一部关于所有人的成长电影，就像那句话说的，聪明是一种天赋，但是善良是一种选择。电影并没有过分渲染小男孩，而是多角度展示身边的人，最终构建了一个充满天使和爱的世界。推荐有孩子的家长看，要知道，如果你们家有熊孩子，不是因为生的不好，而是你们教的不好。\\n        ', ' 把“生而为人，很抱歉”，变成了“是个人，都应该与人为善”，多视角还挺有意思的。人与人的孤独重量，都是同一种地心引力。虽然不出意外的，所有人都是自带光芒的nice好人。\\n        ', ' 除了故事上有些细节有待改良之外，整部电影都洋溢着朴实的感动，让人在大银幕看到久违的家庭温暖。Jacob Tremblay即便面部表情全部被残疾装扮盖住，依然能让这个角色充满灵气，果然天生戏精。\\n        ', ' 很久没有一部电影能像《奇迹男孩》那样让我从头哭到尾了。\\n        ', ' 数度泪目，还能听到影院中有不少看哭的观众，非常感人。天生脸部畸形的儿童想要融入学校是多么艰难不易，影片很赞的一点是通过不同角色的视角展现故事，更加客观也让很多不同观众都能找到共鸣。Jacob真是小影帝，隔着那么厚的妆依然精彩，朱莉亚也非常棒，非常有感染力。亲情和孩童的友情太伟大！\\n        ', ' 优点是，拍出了每个孩子的独特性。缺点是，一切都美好得比童话还假\\n        ', ' 也許有人會覺得太過糖衣溫暖，但是無所謂，電影有時候就應該用「夢」來撫慰現實的苦楚，而且我相信創作人是充滿善意的。希望懂愛的人最終都會被愛，不會再有誤解，善良的人最終都會被溫柔以待。\\n        ', ' 这些儿童演员连带少男少女演员都漂亮得离谱了吧，现实里你哪里给我找个Jack will来？儿童界的男神。\\n        ']\n"
     ]
    }
   ],
   "source": [
    "requrl = 'https://movie.douban.com/subject/' + nowplaying_list[3]['id'] + '/comments' +'?' +'start=0' + '&limit=20' \n",
    "resp = request.urlopen(requrl) \n",
    "html_data = resp.read().decode('utf-8') \n",
    "soup = bs(html_data, 'html.parser') \n",
    "comment_div_lits = soup.find_all('div', class_='comment') \n",
    "\n",
    "eachCommentList = []; \n",
    "for item in comment_div_lits: \n",
    "        if item.find_all('p')[0].string is not None:     \n",
    "            eachCommentList.append(item.find_all('p')[0].string)\n",
    "\n",
    "print(eachCommentList)"
   ]
  },
  {
   "cell_type": "code",
   "execution_count": 6,
   "metadata": {
    "collapsed": true
   },
   "outputs": [],
   "source": [
    "comments = ''\n",
    "for k in range(len(eachCommentList)):\n",
    "    comments = comments + (str(eachCommentList[k])).strip()\n",
    "    \n",
    "#print(comments)"
   ]
  },
  {
   "cell_type": "markdown",
   "metadata": {},
   "source": [
    "### 去除标点"
   ]
  },
  {
   "cell_type": "code",
   "execution_count": 7,
   "metadata": {},
   "outputs": [
    {
     "name": "stdout",
     "output_type": "stream",
     "text": [
      "在这种家庭里做一条狗都好啊当时出国以后的第一最大感受就是尊重不论老弱病孕还是任何与众不同都不会有人上下打量你我不能说他们内心是否真的友善但是尊重是最起码的原则希望这个世界多一些善意任何人都有自己的存在的理由和方式看到每个人由衷接受的时候太暖心了所有人都知道是化妆只有我一个人以为请的真实病人出演吗有种糖放多了的感觉精华基本都在预告里了但对孩子们的纯真友情毫无抵抗力啊就像被温柔的抚摸了一下软肋涂着厚厚化妆都能感受到演技小李子真好意思把奥斯卡摆在家里吗为什么欧文威尔逊和范迪塞尔可以在他们参演的几乎所有电影里都保持同一个发型其实这更像当代童话因为实在是太暖了里面每个人都那么暖怎么可以那么暖怎么可以那么暖像一个暖心的童话故事虽然我也怀疑这样故事的真实性但是却喜欢被这样暖的故事感动一度哭到不行秋天排练的话剧春天才会公演软盘誊抄的论文硬盘才能呈现你无非是度过了五年级时间却有魔法经历非凡躲在卧室里的灵魂最向往蓝天藏在头盔中的容颜最渴望看见你其实并没有炸掉死星楚巴卡会令有些人变得不凡一杯水能让光影折射一个男孩能让善良被选择奥古是杯水折射出每个人的善意每个人不论年龄性别弟弟姐姐姐姐的闺蜜在成长都会遇到质疑泪水冷眼谎言误解痛苦嘲讽挣扎阵痛都可以在电影中找到影子产生共鸣以小见大小故事大题材折射出真善美勇敢与希望宽容与理解不论在任何国度任何肤色都是人类永恒的主题买票的时候很纠结因为是完全可以预料到的剧情这种温馨少年故事虽各各不同却又次次类似若是你近来心情疲惫这部电影是个流泪的好借口一碗甜而不腻的普世价值鸡汤非常好喝看之前我以为是讲主角小男孩的原来是章回体每个人都有故事每个人都有视角每个人都有选择每个人都很美很好开演前基友给我说这部电影就像夏天一样清新是啊没错像泡在透明干净的玻璃瓶中的黄瓜水一样安心又健康还有甘甜味请多带你们自己和你们的孩子去看看这种电影谢谢能让观众在电影开篇不到分钟就哭出来就很已经厉害了五星推荐不是想象的励志片而是一部关于所有人的成长电影就像那句话说的聪明是一种天赋但是善良是一种选择电影并没有过分渲染小男孩而是多角度展示身边的人最终构建了一个充满天使和爱的世界推荐有孩子的家长看要知道如果你们家有熊孩子不是因为生的不好而是你们教的不好把生而为人很抱歉变成了是个人都应该与人为善多视角还挺有意思的人与人的孤独重量都是同一种地心引力虽然不出意外的所有人都是自带光芒的好人除了故事上有些细节有待改良之外整部电影都洋溢着朴实的感动让人在大银幕看到久违的家庭温暖即便面部表情全部被残疾装扮盖住依然能让这个角色充满灵气果然天生戏精很久没有一部电影能像奇迹男孩那样让我从头哭到尾了数度泪目还能听到影院中有不少看哭的观众非常感人天生脸部畸形的儿童想要融入学校是多么艰难不易影片很赞的一点是通过不同角色的视角展现故事更加客观也让很多不同观众都能找到共鸣真是小影帝隔着那么厚的妆依然精彩朱莉亚也非常棒非常有感染力亲情和孩童的友情太伟大优点是拍出了每个孩子的独特性缺点是一切都美好得比童话还假也許有人會覺得太過糖衣溫暖但是無所謂電影有時候就應該用夢來撫慰現實的苦楚而且我相信創作人是充滿善意的希望懂愛的人最終都會被愛不會再有誤解善良的人最終都會被溫柔以待这些儿童演员连带少男少女演员都漂亮得离谱了吧现实里你哪里给我找个来儿童界的男神\n"
     ]
    }
   ],
   "source": [
    "import re\n",
    "\n",
    "pattern = re.compile(r'[\\u4e00-\\u9fa5]+')\n",
    "filterdata = re.findall(pattern, comments)\n",
    "cleaned_comments = ''.join(filterdata)\n",
    "\n",
    "print(cleaned_comments)"
   ]
  },
  {
   "cell_type": "markdown",
   "metadata": {},
   "source": [
    "### 进行词频统计，先进行中文分词"
   ]
  },
  {
   "cell_type": "code",
   "execution_count": 8,
   "metadata": {},
   "outputs": [
    {
     "name": "stderr",
     "output_type": "stream",
     "text": [
      "Building prefix dict from the default dictionary ...\n",
      "Loading model from cache /tmp/jieba.cache\n",
      "Loading model cost 0.850 seconds.\n",
      "Prefix dict has been built succesfully.\n"
     ]
    },
    {
     "data": {
      "text/html": [
       "<div>\n",
       "<style>\n",
       "    .dataframe thead tr:only-child th {\n",
       "        text-align: right;\n",
       "    }\n",
       "\n",
       "    .dataframe thead th {\n",
       "        text-align: left;\n",
       "    }\n",
       "\n",
       "    .dataframe tbody tr th {\n",
       "        vertical-align: top;\n",
       "    }\n",
       "</style>\n",
       "<table border=\"1\" class=\"dataframe\">\n",
       "  <thead>\n",
       "    <tr style=\"text-align: right;\">\n",
       "      <th></th>\n",
       "      <th>segment</th>\n",
       "    </tr>\n",
       "  </thead>\n",
       "  <tbody>\n",
       "    <tr>\n",
       "      <th>0</th>\n",
       "      <td>在</td>\n",
       "    </tr>\n",
       "    <tr>\n",
       "      <th>1</th>\n",
       "      <td>这种</td>\n",
       "    </tr>\n",
       "    <tr>\n",
       "      <th>2</th>\n",
       "      <td>家庭</td>\n",
       "    </tr>\n",
       "    <tr>\n",
       "      <th>3</th>\n",
       "      <td>里</td>\n",
       "    </tr>\n",
       "    <tr>\n",
       "      <th>4</th>\n",
       "      <td>做</td>\n",
       "    </tr>\n",
       "  </tbody>\n",
       "</table>\n",
       "</div>"
      ],
      "text/plain": [
       "  segment\n",
       "0       在\n",
       "1      这种\n",
       "2      家庭\n",
       "3       里\n",
       "4       做"
      ]
     },
     "execution_count": 8,
     "metadata": {},
     "output_type": "execute_result"
    }
   ],
   "source": [
    "import jieba    #分词包\n",
    "import pandas as pd  \n",
    "\n",
    "segment = jieba.lcut(cleaned_comments)\n",
    "words_df=pd.DataFrame({'segment':segment})\n",
    "\n",
    "words_df.head()"
   ]
  },
  {
   "cell_type": "markdown",
   "metadata": {},
   "source": [
    "### 去除停用词"
   ]
  },
  {
   "cell_type": "code",
   "execution_count": 9,
   "metadata": {},
   "outputs": [
    {
     "data": {
      "text/html": [
       "<div>\n",
       "<style>\n",
       "    .dataframe thead tr:only-child th {\n",
       "        text-align: right;\n",
       "    }\n",
       "\n",
       "    .dataframe thead th {\n",
       "        text-align: left;\n",
       "    }\n",
       "\n",
       "    .dataframe tbody tr th {\n",
       "        vertical-align: top;\n",
       "    }\n",
       "</style>\n",
       "<table border=\"1\" class=\"dataframe\">\n",
       "  <thead>\n",
       "    <tr style=\"text-align: right;\">\n",
       "      <th></th>\n",
       "      <th>segment</th>\n",
       "    </tr>\n",
       "  </thead>\n",
       "  <tbody>\n",
       "    <tr>\n",
       "      <th>1</th>\n",
       "      <td>这种</td>\n",
       "    </tr>\n",
       "    <tr>\n",
       "      <th>2</th>\n",
       "      <td>家庭</td>\n",
       "    </tr>\n",
       "    <tr>\n",
       "      <th>3</th>\n",
       "      <td>里</td>\n",
       "    </tr>\n",
       "    <tr>\n",
       "      <th>4</th>\n",
       "      <td>做</td>\n",
       "    </tr>\n",
       "    <tr>\n",
       "      <th>5</th>\n",
       "      <td>一条</td>\n",
       "    </tr>\n",
       "  </tbody>\n",
       "</table>\n",
       "</div>"
      ],
      "text/plain": [
       "  segment\n",
       "1      这种\n",
       "2      家庭\n",
       "3       里\n",
       "4       做\n",
       "5      一条"
      ]
     },
     "execution_count": 9,
     "metadata": {},
     "output_type": "execute_result"
    }
   ],
   "source": [
    "stopwords=pd.read_csv(\"stopwords.txt\",index_col=False,quoting=3,sep=\"\\t\",names=['stopword'], encoding='utf-8')#quoting=3全不引用\n",
    "words_df=words_df[~words_df.segment.isin(stopwords.stopword)]\n",
    "words_df.head()"
   ]
  },
  {
   "cell_type": "markdown",
   "metadata": {},
   "source": [
    "### 词频统计"
   ]
  },
  {
   "cell_type": "code",
   "execution_count": 10,
   "metadata": {},
   "outputs": [
    {
     "name": "stderr",
     "output_type": "stream",
     "text": [
      "/home/ntyz/anaconda2/envs/py35/lib/python3.5/site-packages/ipykernel_launcher.py:2: FutureWarning: using a dict on a Series for aggregation\n",
      "is deprecated and will be removed in a future version\n",
      "  \n"
     ]
    },
    {
     "data": {
      "text/html": [
       "<div>\n",
       "<style>\n",
       "    .dataframe thead tr:only-child th {\n",
       "        text-align: right;\n",
       "    }\n",
       "\n",
       "    .dataframe thead th {\n",
       "        text-align: left;\n",
       "    }\n",
       "\n",
       "    .dataframe tbody tr th {\n",
       "        vertical-align: top;\n",
       "    }\n",
       "</style>\n",
       "<table border=\"1\" class=\"dataframe\">\n",
       "  <thead>\n",
       "    <tr style=\"text-align: right;\">\n",
       "      <th></th>\n",
       "      <th>segment</th>\n",
       "      <th>计数</th>\n",
       "    </tr>\n",
       "  </thead>\n",
       "  <tbody>\n",
       "    <tr>\n",
       "      <th>260</th>\n",
       "      <td>电影</td>\n",
       "      <td>10</td>\n",
       "    </tr>\n",
       "    <tr>\n",
       "      <th>218</th>\n",
       "      <td>每个</td>\n",
       "      <td>9</td>\n",
       "    </tr>\n",
       "    <tr>\n",
       "      <th>184</th>\n",
       "      <td>故事</td>\n",
       "      <td>7</td>\n",
       "    </tr>\n",
       "    <tr>\n",
       "      <th>195</th>\n",
       "      <td>暖</td>\n",
       "      <td>5</td>\n",
       "    </tr>\n",
       "    <tr>\n",
       "      <th>113</th>\n",
       "      <td>孩子</td>\n",
       "      <td>5</td>\n",
       "    </tr>\n",
       "  </tbody>\n",
       "</table>\n",
       "</div>"
      ],
      "text/plain": [
       "    segment  计数\n",
       "260      电影  10\n",
       "218      每个   9\n",
       "184      故事   7\n",
       "195       暖   5\n",
       "113      孩子   5"
      ]
     },
     "execution_count": 10,
     "metadata": {},
     "output_type": "execute_result"
    }
   ],
   "source": [
    "import numpy    #numpy计算包\n",
    "words_stat=words_df.groupby(by=['segment'])['segment'].agg({\"计数\":numpy.size})\n",
    "words_stat=words_stat.reset_index().sort_values(by=[\"计数\"],ascending=False)\n",
    "\n",
    "words_stat.head()"
   ]
  },
  {
   "cell_type": "markdown",
   "metadata": {},
   "source": [
    "### 用词云显示"
   ]
  },
  {
   "cell_type": "code",
   "execution_count": 19,
   "metadata": {},
   "outputs": [
    {
     "data": {
      "text/plain": [
       "(-0.5, 719.5, 956.5, -0.5)"
      ]
     },
     "execution_count": 19,
     "metadata": {},
     "output_type": "execute_result"
    },
    {
     "data": {
      "image/png": "[encoded data removed]",
      "text/plain": [
       "<matplotlib.figure.Figure at 0x7f897d27b048>"
      ]
     },
     "metadata": {},
     "output_type": "display_data"
    }
   ],
   "source": [
    "import matplotlib.pyplot as plt\n",
    "import numpy as np\n",
    "%matplotlib inline\n",
    "import matplotlib\n",
    "matplotlib.rcParams['figure.figsize'] = (10.0, 5.0)\n",
    "from wordcloud import WordCloud#词云包\n",
    "from os import path\n",
    "from PIL import Image\n",
    "\n",
    "d = path.dirname('__file__')\n",
    "alice_mask = np.array(Image.open(path.join(d, \"alice_mask.png\")))\n",
    "wordcloud=WordCloud(font_path=r'simhei.ttf',background_color=\"black\",max_font_size=100, mask=alice_mask)\n",
    "word_frequence = {x[0]:x[1] for x in words_stat.head(1000).values}\n",
    "\n",
    "word_frequence_list = []\n",
    "for key in word_frequence:\n",
    "    temp = (key,word_frequence[key])\n",
    "    word_frequence_list.append(temp)\n",
    "\n",
    "wordcloud=wordcloud.fit_words(word_frequence_list)\n",
    "plt.imshow(wordcloud)\n",
    "plt.axis(\"off\")"
   ]
  }
 ],
 "metadata": {
  "kernelspec": {
   "display_name": "Python 3",
   "language": "python",
   "name": "python3"
  },
  "language_info": {
   "codemirror_mode": {
    "name": "ipython",
    "version": 3
   },
   "file_extension": ".py",
   "mimetype": "text/x-python",
   "name": "python",
   "nbconvert_exporter": "python",
   "pygments_lexer": "ipython3",
   "version": "3.5.4"
  }
 },
 "nbformat": 4,
 "nbformat_minor": 2
}
